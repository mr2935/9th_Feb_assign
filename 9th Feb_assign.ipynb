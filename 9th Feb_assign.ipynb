{
 "cells": [
  {
   "cell_type": "code",
   "execution_count": 8,
   "id": "10ab09a2-41a5-4eac-b33b-4a04c7699e17",
   "metadata": {},
   "outputs": [
    {
     "name": "stdout",
     "output_type": "stream",
     "text": [
      "car\n",
      "70\n",
      "90\n",
      "car\n",
      "70\n",
      "90\n"
     ]
    }
   ],
   "source": [
    "\n",
    "#Question 1\n",
    "class vehicle:\n",
    "    def __init__(self, name_of_vehicle, max_speed, average_speed):\n",
    "        self.name_of_vehicle=name_of_vehicle\n",
    "        self.max_speed=max_speed\n",
    "        self.average_speed=average_speed\n",
    "    \n",
    "car=vehicle(\"car\",70,90)\n",
    "print(car.name_of_vehicle)\n",
    "print(car.max_speed)\n",
    "print(car.average_speed)\n",
    "bike=vehicle(\"bike\",60,70)\n",
    "print(car.name_of_vehicle)\n",
    "print(car.max_speed)\n",
    "print(car.average_speed)"
   ]
  },
  {
   "cell_type": "code",
   "execution_count": 17,
   "id": "c7f83264-1af0-4f7c-a0ff-ab1752dfa293",
   "metadata": {},
   "outputs": [
    {
     "name": "stdout",
     "output_type": "stream",
     "text": [
      "The Toyota Camry has a seating capacity of 6 people.\n"
     ]
    }
   ],
   "source": [
    "class Vehicle:\n",
    "    def __init__(self, name_of_vehicle, max_speed, average_speed):\n",
    "        self.name_of_vehicle = name_of_vehicle\n",
    "        self.max_speed = max_speed\n",
    "        self.average_speed = average_speed\n",
    "\n",
    "class Car(Vehicle):\n",
    "    def __init__(self, name_of_vehicle, max_speed, average_speed):\n",
    "        super().__init__(name_of_vehicle, max_speed, average_speed)\n",
    "\n",
    "    def seating_capacity(self, capacity):\n",
    "        return f\"The {self.name_of_vehicle} has a seating capacity of {capacity} people.\"\n",
    "\n",
    "car = Car(\"Toyota Camry\", 180, 60)\n",
    "print(car.seating_capacity(6))\n"
   ]
  },
  {
   "cell_type": "markdown",
   "id": "9f4a1824-7dcb-4574-9538-f2730b5bee6a",
   "metadata": {},
   "source": [
    "#Question 3\n",
    "Multiple Inheritance is a type of inheritance.In Multiple Inheritance two base classes are there and a child class will inherit from these two base class."
   ]
  },
  {
   "cell_type": "code",
   "execution_count": 18,
   "id": "12822675-4cef-47cc-8a13-61fb4a9e0d30",
   "metadata": {},
   "outputs": [
    {
     "name": "stdout",
     "output_type": "stream",
     "text": [
      "car\n",
      "70\n",
      "90\n"
     ]
    }
   ],
   "source": [
    "# Example\n",
    "class Vehicle:\n",
    "    def __init__(self, name_of_vehicle, max_speed, average_speed):\n",
    "        self.name_of_vehicle = name_of_vehicle\n",
    "        self.max_speed = max_speed\n",
    "        self.average_speed = average_speed\n",
    "class wheeler:\n",
    "    pass\n",
    "class Car(Vehicle,wheeler):\n",
    "    def __init__(self, name_of_vehicle, max_speed, average_speed):\n",
    "        super().__init__(self, name_of_vehicle, max_speed, average_speed)\n",
    "        \n",
    "car=vehicle(\"car\",70,90)\n",
    "print(car.name_of_vehicle)\n",
    "print(car.max_speed)\n",
    "print(car.average_speed)\n",
    "\n"
   ]
  },
  {
   "cell_type": "markdown",
   "id": "84f23079-25d9-473e-b480-2fd23299aa9a",
   "metadata": {},
   "source": [
    "# question 4\n",
    "\n",
    "In Python, getters and setters are methods used to control the access and modification of class attributes or instance variables. They provide a way to retrieve (get) and update (set) the values of private attributes in a controlled manner, encapsulating the underlying implementation details."
   ]
  },
  {
   "cell_type": "code",
   "execution_count": 24,
   "id": "2278ecc6-d3bf-41de-a0c4-18fbc085641f",
   "metadata": {},
   "outputs": [
    {
     "ename": "AttributeError",
     "evalue": "'pwskills' object has no attribute '_pwskills__course_price'",
     "output_type": "error",
     "traceback": [
      "\u001b[0;31m---------------------------------------------------------------------------\u001b[0m",
      "\u001b[0;31mAttributeError\u001b[0m                            Traceback (most recent call last)",
      "Cell \u001b[0;32mIn[24], line 26\u001b[0m\n\u001b[1;32m     24\u001b[0m pw\u001b[38;5;241m.\u001b[39mcourse_price_access\n\u001b[1;32m     25\u001b[0m \u001b[38;5;28;01mdel\u001b[39;00m pw\u001b[38;5;241m.\u001b[39mdelete_course_price\n\u001b[0;32m---> 26\u001b[0m \u001b[43mpw\u001b[49m\u001b[38;5;241;43m.\u001b[39;49m\u001b[43mcourse_price_access\u001b[49m\n",
      "Cell \u001b[0;32mIn[24], line 10\u001b[0m, in \u001b[0;36mpwskills.course_price_access\u001b[0;34m(self)\u001b[0m\n\u001b[1;32m      8\u001b[0m \u001b[38;5;129m@property\u001b[39m\n\u001b[1;32m      9\u001b[0m \u001b[38;5;28;01mdef\u001b[39;00m \u001b[38;5;21mcourse_price_access\u001b[39m(\u001b[38;5;28mself\u001b[39m) : \n\u001b[0;32m---> 10\u001b[0m     \u001b[38;5;28;01mreturn\u001b[39;00m \u001b[38;5;28;43mself\u001b[39;49m\u001b[38;5;241;43m.\u001b[39;49m\u001b[43m__course_price\u001b[49m\n",
      "\u001b[0;31mAttributeError\u001b[0m: 'pwskills' object has no attribute '_pwskills__course_price'"
     ]
    }
   ],
   "source": [
    "class pwskills :\n",
    "    \n",
    "    def __init__(self , course_price , coruse_name):\n",
    "        \n",
    "        self.__course_price = course_price\n",
    "        self.course_name = coruse_name\n",
    "        \n",
    "    @property\n",
    "    def course_price_access(self) : \n",
    "        return self.__course_price\n",
    "    \n",
    "    @course_price_access.setter\n",
    "    def course_price_set(self , price ):\n",
    "        if price <= 3500:\n",
    "            pass\n",
    "        else :\n",
    "            self.__course_price = price\n",
    "            \n",
    "    @course_price_access.deleter\n",
    "    def delete_course_price(self) : \n",
    "        del self.__course_price\n",
    "    \n",
    "pw = pwskills(3500 , \"data science masters\")\n",
    "pw.course_price_access\n",
    "del pw.delete_course_price\n",
    "pw.course_price_access"
   ]
  },
  {
   "cell_type": "code",
   "execution_count": null,
   "id": "c6e5b904-65d7-4294-8346-eae7bbfdc845",
   "metadata": {},
   "outputs": [],
   "source": [
    "# Question 5\n"
   ]
  }
 ],
 "metadata": {
  "kernelspec": {
   "display_name": "Python 3 (ipykernel)",
   "language": "python",
   "name": "python3"
  },
  "language_info": {
   "codemirror_mode": {
    "name": "ipython",
    "version": 3
   },
   "file_extension": ".py",
   "mimetype": "text/x-python",
   "name": "python",
   "nbconvert_exporter": "python",
   "pygments_lexer": "ipython3",
   "version": "3.10.8"
  }
 },
 "nbformat": 4,
 "nbformat_minor": 5
}
